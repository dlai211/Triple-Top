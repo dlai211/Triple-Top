{
 "cells": [
  {
   "cell_type": "code",
   "execution_count": 1,
   "metadata": {},
   "outputs": [],
   "source": [
    "import numpy as np\n",
    "import matplotlib.pyplot as plt\n",
    "import uproot\n",
    "import awkward as ak\n",
    "import pandas as pd\n",
    "import pylhe\n",
    "from tqdm import tqdm\n",
    "import itertools"
   ]
  },
  {
   "cell_type": "code",
   "execution_count": 2,
   "metadata": {},
   "outputs": [
    {
     "name": "stderr",
     "output_type": "stream",
     "text": [
      "100%|██████████| 744/744 [00:00<00:00, 744.33it/s]\n",
      "100%|██████████| 265/265 [00:00<00:00, 383.70it/s]\n",
      "100%|██████████| 205/205 [00:00<00:00, 2528.69it/s]\n",
      "100%|██████████| 205/205 [00:00<00:00, 816.31it/s]\n",
      "100%|██████████| 180/180 [00:00<00:00, 681.31it/s]\n",
      "100%|██████████| 180/180 [00:01<00:00, 130.54it/s]\n",
      "100%|██████████| 180/180 [00:01<00:00, 179.45it/s]\n",
      "100%|██████████| 179/179 [00:00<00:00, 1223.96it/s]\n"
     ]
    },
    {
     "data": {
      "text/plain": [
       "[2500, 265, 205, 205, 180, 180, 180, 179, 125]"
      ]
     },
     "execution_count": 2,
     "metadata": {},
     "output_type": "execute_result"
    }
   ],
   "source": [
    "def f(deltaeta, deltaphi):\n",
    "    return np.sqrt(deltaeta**2 + deltaphi**2)\n",
    "def function(f_Att):\n",
    "    # Define Tree\n",
    "    tree_electron_Att = f_Att['Delphes;1/Electron']\n",
    "    tree_muon_Att = f_Att['Delphes;1/Muon']\n",
    "    tree_jet_Att = f_Att['Delphes;1/Jet']\n",
    "    tree_Emiss_Att = f_Att['Delphes;1/MissingET']\n",
    "    tree_Ht_Att = f_Att['Delphes;1/ScalarHT']\n",
    "    \n",
    "    # Define Branches\n",
    "    Att_electron = tree_electron_Att.arrays(['Electron.Charge',\n",
    "                                            'Electron.PT',\n",
    "                                            'Electron.Eta',\n",
    "                                            'Electron.Phi'], library='ak')\n",
    "    Att_muon = tree_muon_Att.arrays(['Muon.Charge',\n",
    "                                    'Muon.PT',\n",
    "                                    'Muon.Eta',\n",
    "                                    'Muon.Phi'], library='ak')\n",
    "    Att_jet = tree_jet_Att.arrays(['Jet.Mass',\n",
    "                                   'Jet.BTag',\n",
    "                                   'Jet.PT',\n",
    "                                   'Jet.Eta', \n",
    "                                   'Jet.Phi'], library='ak')\n",
    "    Att_Emiss = tree_Emiss_Att.arrays(['MissingET.MET',\n",
    "                                       'MissingET.Phi'], library='ak')\n",
    "    Att_Ht = tree_Ht_Att.arrays(['ScalarHT.HT'])\n",
    "    \n",
    "    # Define Variables\n",
    "    EventSize = len(Att_jet['Jet.Mass'])\n",
    "    jet_sort_pt = ak.sort(Att_jet['Jet.PT'], axis=-1, ascending=False)\n",
    "    jet_num = ak.num(Att_jet['Jet.PT'], axis=-1)\n",
    "    lepton_sort_pt = ak.sort(ak.concatenate([Att_electron['Electron.PT'], Att_muon['Muon.PT']], axis=-1), axis=-1, ascending=False)\n",
    "    lepton_charge = ak.Array.tolist(ak.concatenate([Att_electron['Electron.Charge'], Att_muon['Muon.Charge']], axis=-1))\n",
    "    lepton_eta = ak.concatenate([Att_electron['Electron.Eta'], Att_muon['Muon.Eta']], axis=-1)\n",
    "    lepton_phi = ak.concatenate([Att_electron['Electron.Phi'], Att_muon['Muon.Phi']], axis=-1)\n",
    "    bjet_pt = Att_jet['Jet.PT']*Att_jet['Jet.BTag']\n",
    "    bjet_eta = Att_jet['Jet.Eta']*Att_jet['Jet.BTag']\n",
    "    bjet_phi = Att_jet['Jet.Phi']*Att_jet['Jet.BTag']\n",
    "    two_lepton = ak.where(ak.num(lepton_sort_pt)>=2)\n",
    "    \n",
    "    # Two leptons with same charge + at least 3 jets with 2 of them identified as b-jets\n",
    "    event_signal = []\n",
    "    for i in tqdm(two_lepton[0]): #Awkward Array has a length of 1\n",
    "        num_jet, b_pt, lep_charge = jet_num[i], bjet_pt[i], lepton_charge[i]\n",
    "        num_bjet = len(b_pt[ak.where(b_pt)])\n",
    "        if lep_charge.count(-1) >= 2 or lep_charge.count(1) >=2:\n",
    "            if num_jet >= 3 and num_bjet >=2:\n",
    "                event_signal.append(i)\n",
    "        \n",
    "    # Transverse Momentum of leading and subleading lepton & Eta for Leptons\n",
    "    event_lep = []\n",
    "    for i in tqdm(event_signal):\n",
    "        lep_eta = lepton_eta[i]\n",
    "        lep_where = ak.where(np.abs(lep_eta)<2.5, 0, lep_eta)\n",
    "        if lepton_sort_pt[i][0] > 25 and lepton_sort_pt[i][1] > 20 and ak.count_nonzero(lep_where) == 0:\n",
    "            event_lep.append(i)\n",
    "        else:\n",
    "            continue\n",
    "    \n",
    "    # Transverse Momentum of three jets\n",
    "    event_jet = []\n",
    "    for i in tqdm(event_lep):\n",
    "        if jet_sort_pt[i][2] > 20:\n",
    "            event_jet.append(i)\n",
    "        else:\n",
    "            continue\n",
    "    \n",
    "    # Emiss\n",
    "    event_emiss = []\n",
    "    for i in tqdm(event_jet):\n",
    "        if Att_Emiss['MissingET.MET'][i] > 30:\n",
    "            event_emiss.append(i)\n",
    "        else:\n",
    "            continue\n",
    " \n",
    "    # delta R between b-jets and leptons, leptons and leptons, b-jets and b-jets\n",
    "    event_deltaR_jl = []\n",
    "    for i in tqdm(event_emiss):\n",
    "        lep_eta, lep_phi, jeta, jphi = lepton_eta[i], lepton_phi[i], Att_jet['Jet.Eta'][i], Att_jet['Jet.Phi'][i]\n",
    "\n",
    "        deltaeta_jl = np.array([i-j for i in jeta for j in lep_eta])\n",
    "        deltaphi_jl = np.abs([i-j for i in jphi for j in lep_phi])\n",
    "        deltaphi_jl = np.array([2*np.pi-i if i > np.pi else i for i in deltaphi_jl])\n",
    "    \n",
    "        if min(f(deltaeta_jl, deltaphi_jl)) > 0.4:\n",
    "            event_deltaR_jl.append(i)\n",
    "    \n",
    "    event_deltaR_bb = []\n",
    "    for i in tqdm(event_deltaR_jl):\n",
    "        b_eta, b_phi = bjet_eta[i], bjet_phi[i]\n",
    "        b_eta, b_phi = b_eta[ak.where(b_eta)], b_phi[ak.where(b_phi)]\n",
    "        \n",
    "        m = b_eta - b_eta[:, np.newaxis]\n",
    "        deltaeta_bb = m[np.triu_indices(len(m[0]), k = 1)]\n",
    "        m = b_phi - b_phi[:, np.newaxis]\n",
    "        deltaphi_bb = np.abs(m[np.triu_indices(len(m[0]), k = 1)])\n",
    "        deltaphi_bb = np.array([2*np.pi-i if i > np.pi else i for i in deltaphi_bb])\n",
    "        \n",
    "        if min(f(deltaeta_bb, deltaphi_bb)) > 0.4:\n",
    "            event_deltaR_bb.append(i)\n",
    "            \n",
    "    event_deltaR_ll = []\n",
    "    for i in tqdm(event_deltaR_bb):\n",
    "        lep_eta, lep_phi = lepton_eta[i], lepton_phi[i]\n",
    "        m = lep_eta - lep_eta[:, np.newaxis]\n",
    "        deltaeta_ll = m[np.triu_indices(len(m[0]), k = 1)]\n",
    "        m = lep_phi - lep_phi[:, np.newaxis]\n",
    "        deltaphi_ll = np.abs(m[np.triu_indices(len(m[0]), k = 1)])\n",
    "        deltaphi_ll = np.array([2*np.pi-i if i > np.pi else i for i in deltaphi_ll])\n",
    "\n",
    "        if min(f(deltaeta_ll, deltaphi_ll)) > 0.4:\n",
    "            event_deltaR_ll.append(i)\n",
    "    \n",
    "    # HT of 2 leading leptons and three leading jets\n",
    "    event_ht = []\n",
    "    for i in tqdm(event_deltaR_ll):\n",
    "        lep_pt, jet_pt = lepton_sort_pt[i], jet_sort_pt[i]\n",
    "        ht = np.sum([lep_pt[0], lep_pt[1], jet_pt[0], jet_pt[1], jet_pt[2]])\n",
    "        if ht > 300:\n",
    "            event_ht.append(i)\n",
    "                \n",
    "    return [EventSize, len(event_signal), len(event_lep), len(event_jet), len(event_emiss), len(event_deltaR_jl), len(event_deltaR_bb), len(event_deltaR_ll), len(event_ht)]\n",
    "\n",
    "y1 = '../root/MG5_aMC_v2_7_3/test1/Events/run_01/tag_1_delphes_events.root'\n",
    "y2 = uproot.open(y1)\n",
    "y3 = function(y2)\n",
    "y3"
   ]
  },
  {
   "cell_type": "code",
   "execution_count": 4,
   "metadata": {},
   "outputs": [
    {
     "name": "stdout",
     "output_type": "stream",
     "text": [
      "20.000000000000004\n"
     ]
    }
   ],
   "source": [
    "print(y3[-1]/y3[0] * 0.4 * 1000)"
   ]
  },
  {
   "cell_type": "code",
   "execution_count": null,
   "metadata": {},
   "outputs": [],
   "source": [
    "100/10000 * 0.384 * 1000"
   ]
  },
  {
   "cell_type": "code",
   "execution_count": 101,
   "metadata": {},
   "outputs": [
    {
     "data": {
      "text/plain": [
       "[0.045, 0.052, 0.064, 0.07, 0.071, 0.072, 0.061, 0.085]"
      ]
     },
     "execution_count": 101,
     "metadata": {},
     "output_type": "execute_result"
    }
   ],
   "source": [
    "f_01"
   ]
  },
  {
   "cell_type": "code",
   "execution_count": 121,
   "metadata": {},
   "outputs": [
    {
     "data": {
      "text/plain": [
       "5.724"
      ]
     },
     "execution_count": 121,
     "metadata": {},
     "output_type": "execute_result"
    }
   ],
   "source": [
    "0.108*1000 * y3[-1]/y3[0]"
   ]
  },
  {
   "cell_type": "code",
   "execution_count": null,
   "metadata": {},
   "outputs": [],
   "source": []
  }
 ],
 "metadata": {
  "kernelspec": {
   "display_name": "Python 3",
   "language": "python",
   "name": "python3"
  },
  "language_info": {
   "codemirror_mode": {
    "name": "ipython",
    "version": 3
   },
   "file_extension": ".py",
   "mimetype": "text/x-python",
   "name": "python",
   "nbconvert_exporter": "python",
   "pygments_lexer": "ipython3",
   "version": "3.8.5"
  }
 },
 "nbformat": 4,
 "nbformat_minor": 4
}
